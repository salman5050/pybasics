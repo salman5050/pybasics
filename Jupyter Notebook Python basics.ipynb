{
 "cells": [
  {
   "cell_type": "markdown",
   "id": "d71a4e09",
   "metadata": {},
   "source": [
    "# Python Ka Chilla With Baba Aamar\n",
    "## How to use jupyter Notebook\n",
    "### Basics of Python\n",
    "\n",
    "### **01- My first Program**"
   ]
  },
  {
   "cell_type": "code",
   "execution_count": 1,
   "id": "a4ea8e76",
   "metadata": {},
   "outputs": [
    {
     "name": "stdout",
     "output_type": "stream",
     "text": [
      "5\n",
      "Hellow World\n",
      "We are learning python with Ammar\n",
      "3.25\n"
     ]
    }
   ],
   "source": [
    "# My first program in pytho\n",
    "print(2+3)\n",
    "print(\"Hellow World\")\n",
    "print(\"We are learning python with Ammar\")\n",
    "print((2*4+5)/4)"
   ]
  },
  {
   "cell_type": "code",
   "execution_count": null,
   "id": "2e84aeb1",
   "metadata": {},
   "outputs": [],
   "source": []
  },
  {
   "cell_type": "code",
   "execution_count": 2,
   "id": "24c07d35",
   "metadata": {},
   "outputs": [],
   "source": [
    "### **02-Operators**"
   ]
  },
  {
   "cell_type": "code",
   "execution_count": 3,
   "id": "d2f4d541",
   "metadata": {},
   "outputs": [
    {
     "name": "stdout",
     "output_type": "stream",
     "text": [
      "5\n",
      "6\n",
      "3.0\n",
      "3\n",
      "8\n",
      "1\n",
      "22.0\n"
     ]
    }
   ],
   "source": [
    "print(2+3)\n",
    "print(2*3)\n",
    "print(6/2)\n",
    "print(6//2)\n",
    "print(2**3)\n",
    "print(13%2)\n",
    "print(2**3*2+4/2*5-4)"
   ]
  },
  {
   "cell_type": "markdown",
   "id": "3f0d57b2",
   "metadata": {},
   "source": [
    "PEMDAS Parenthesis Exponents Multiply Devide Addition and Subtraction (fro Left to right MD & AS)"
   ]
  },
  {
   "cell_type": "markdown",
   "id": "37cc226c",
   "metadata": {},
   "source": [
    "### 03- Strings"
   ]
  },
  {
   "cell_type": "code",
   "execution_count": 4,
   "id": "bc8802cf",
   "metadata": {},
   "outputs": [
    {
     "name": "stdout",
     "output_type": "stream",
     "text": [
      "Hellow World\n",
      "We are learning python with Ammar\n",
      "My name is Salman\n",
      "My name is Salman khan\n",
      "My name M.Salman Khan\n"
     ]
    }
   ],
   "source": [
    "print(\"Hellow World\")\n",
    "print(\"We are learning python with Ammar\")\n",
    "print('My name is Salman')\n",
    "print(\"My name is Salman khan\")\n",
    "print('''My name M.Salman Khan''')"
   ]
  },
  {
   "cell_type": "markdown",
   "id": "0da12eab",
   "metadata": {},
   "source": [
    "### 04- Comments\n",
    "The shortcut key to comment is **Ctrl+/ or Shift+3 which is #"
   ]
  },
  {
   "cell_type": "code",
   "execution_count": 5,
   "id": "dc080b71",
   "metadata": {},
   "outputs": [
    {
     "name": "stdout",
     "output_type": "stream",
     "text": [
      "How are you?\n",
      "My name is Salman\n",
      "7\n"
     ]
    }
   ],
   "source": [
    "print(\"How are you?\")         # to change code to comment (ctrl+/)\n",
    "print(\"My name is Salman\")    # print a string\n",
    "print(2+5)                    # print operator operation with number"
   ]
  },
  {
   "cell_type": "markdown",
   "id": "e09f0db5",
   "metadata": {},
   "source": [
    "### 05- Variables and its types/class\n",
    "Variables is Object containing specific values"
   ]
  },
  {
   "cell_type": "code",
   "execution_count": 6,
   "id": "0f0a80dd",
   "metadata": {},
   "outputs": [
    {
     "name": "stdout",
     "output_type": "stream",
     "text": [
      "5\n",
      "My name is Salman\n",
      "20\n",
      "<class 'int'>\n",
      "<class 'str'>\n"
     ]
    }
   ],
   "source": [
    "x=5                          # number or integer variable\n",
    "print(x)\n",
    "y=\"My name is Salman\"        # string variable\n",
    "print(y)\n",
    "x=x+15\n",
    "print(x)\n",
    "print(type(x))\n",
    "print(type(y))"
   ]
  },
  {
   "cell_type": "markdown",
   "id": "d21dae72",
   "metadata": {},
   "source": [
    "### Important rules to remember before assigning any variables\n",
    "\n",
    "1 The variables should contain letters, numbers or underscores\n",
    "2 Do not start with numbers\n",
    "3 spaces are not allowed\n",
    "4 Do not use keywords used in functions (break, class, mean, median etc)\n",
    "5 be precise\n",
    "6 Case sensitive (Lowercase letter, uppercase letters. Always use lowercase letters to be conventient)\n",
    "7 Variable updated in downward direction"
   ]
  },
  {
   "cell_type": "markdown",
   "id": "c88d3d0f",
   "metadata": {},
   "source": [
    "### 06- Input Variables\n",
    "Simple Input Variables"
   ]
  },
  {
   "cell_type": "code",
   "execution_count": 7,
   "id": "aa925641",
   "metadata": {},
   "outputs": [
    {
     "name": "stdout",
     "output_type": "stream",
     "text": [
      "what is your favorite fruit> Apple\n",
      "Apple\n"
     ]
    }
   ],
   "source": [
    "fruit_basket=input(\"what is your favorite fruit> \")\n",
    "print(fruit_basket)"
   ]
  },
  {
   "cell_type": "code",
   "execution_count": 8,
   "id": "da5176ad",
   "metadata": {},
   "outputs": [
    {
     "name": "stdout",
     "output_type": "stream",
     "text": [
      "What is your name? Salman\n",
      "Hello! Salman\n"
     ]
    }
   ],
   "source": [
    "# 2nd Stage Input function\n",
    "name=input(\"What is your name? \")\n",
    "Greetings=\"Hello!\"\n",
    "print(Greetings, name)"
   ]
  },
  {
   "cell_type": "code",
   "execution_count": 9,
   "id": "d38c4e88",
   "metadata": {},
   "outputs": [
    {
     "name": "stdout",
     "output_type": "stream",
     "text": [
      "What is your name? Salman\n",
      "Hello! Salman\n"
     ]
    }
   ],
   "source": [
    "# 2nd Method\n",
    "name=input(\"What is your name? \")\n",
    "print(\"Hello!\", name)"
   ]
  },
  {
   "cell_type": "code",
   "execution_count": 10,
   "id": "1a5ae432",
   "metadata": {},
   "outputs": [
    {
     "name": "stdout",
     "output_type": "stream",
     "text": [
      "What is your name? Salman\n",
      "How old are you? 29\n",
      "Hello! Salman  , you are still young\n"
     ]
    }
   ],
   "source": [
    "# 3rd stage input function\n",
    "name=input(\"What is your name? \")\n",
    "age=input(\"How old are you? \")\n",
    "Greetings=\"Hello!\"\n",
    "print(Greetings, name,\" , you are still young\")"
   ]
  },
  {
   "cell_type": "markdown",
   "id": "ed382e9a",
   "metadata": {},
   "source": [
    "### 07- Conditional Logical Operators\n",
    "logical operators are either ***\"True\" or \"False\", \"yes\" or \"No\" or \"0\" or \"1\"\n",
    "\n",
    "equal to == ,\n",
    "not equal to != ,\n",
    "Less than < ,\n",
    "greater than > ,\n",
    "less than and equal to <= ,\n",
    "greater than and equal to >= ,"
   ]
  },
  {
   "cell_type": "code",
   "execution_count": 11,
   "id": "2a48ea28",
   "metadata": {},
   "outputs": [
    {
     "name": "stdout",
     "output_type": "stream",
     "text": [
      "True\n",
      "False\n",
      "False\n",
      "False\n",
      "True\n",
      "False\n"
     ]
    }
   ],
   "source": [
    "print(4==4)\n",
    "print(4!=4)\n",
    "print(4<4)\n",
    "print(4>4)\n",
    "print(4<=5)\n",
    "print(4>=5)"
   ]
  },
  {
   "cell_type": "markdown",
   "id": "a69baa70",
   "metadata": {},
   "source": [
    "***Application of logical operators"
   ]
  },
  {
   "cell_type": "code",
   "execution_count": 12,
   "id": "33f0576d",
   "metadata": {},
   "outputs": [
    {
     "name": "stdout",
     "output_type": "stream",
     "text": [
      "False\n"
     ]
    }
   ],
   "source": [
    "salman_age=4\n",
    "age_at_school=5\n",
    "print(salman_age==age_at_school)"
   ]
  },
  {
   "cell_type": "markdown",
   "id": "d4dd7202",
   "metadata": {},
   "source": [
    "***Input operator and logical operators"
   ]
  },
  {
   "cell_type": "code",
   "execution_count": 13,
   "id": "42bc1c9b",
   "metadata": {},
   "outputs": [
    {
     "name": "stdout",
     "output_type": "stream",
     "text": [
      "How old are you? 2\n",
      "False\n"
     ]
    }
   ],
   "source": [
    "age_at_school=5\n",
    "your_age=input(\"How old are you? \")  # input function\n",
    "your_age=int(your_age)               # change string to integer\n",
    "print(your_age==age_at_school)"
   ]
  },
  {
   "cell_type": "markdown",
   "id": "87be8253",
   "metadata": {},
   "source": [
    "### 08- Type Conversion"
   ]
  },
  {
   "cell_type": "code",
   "execution_count": 14,
   "id": "3bc538d2",
   "metadata": {},
   "outputs": [
    {
     "name": "stdout",
     "output_type": "stream",
     "text": [
      "<class 'int'>\n",
      "<class 'float'>\n",
      "<class 'float'>\n",
      "<class 'float'>\n",
      "<class 'float'>\n",
      "<class 'float'>\n",
      "<class 'str'>\n",
      "216.6 Type of x is <class 'float'>\n",
      "what is your name? Salman\n",
      "how old are you 29\n",
      "Salman <class 'str'>\n",
      "29 <class 'float'>\n"
     ]
    }
   ],
   "source": [
    "x=15\n",
    "y=12.6\n",
    "z=\"Hello!\"\n",
    "g=x*y\n",
    "f=x+y\n",
    "print(type(x))\n",
    "print(type(y))\n",
    "print(type(x*y))\n",
    "print(type(g))\n",
    "print(type(x+y))\n",
    "print(type(f))\n",
    "print(type(z))\n",
    "\n",
    "# implicit type conversion\n",
    "\n",
    "x=g+f\n",
    "print(x, \"Type of x is\", type(x))\n",
    "\n",
    "# explicit type conversion\n",
    "\n",
    "name=input(\"what is your name? \")\n",
    "age=input(\"how old are you \")\n",
    "print(name, type (name))\n",
    "# print(age,type (int(age)))\n",
    "print(age,type (float (age)))"
   ]
  },
  {
   "cell_type": "markdown",
   "id": "eaaeac79",
   "metadata": {},
   "source": [
    "### 09- If_else_elif Statements"
   ]
  },
  {
   "cell_type": "code",
   "execution_count": 15,
   "id": "3b6300ec",
   "metadata": {},
   "outputs": [
    {
     "name": "stdout",
     "output_type": "stream",
     "text": [
      "salman should join higher secondary school\n"
     ]
    }
   ],
   "source": [
    "salman_age=10\n",
    "age_at_school=5\n",
    "\n",
    "if salman_age==age_at_school:\n",
    "    print(\"Congratulation! salman can join the school\")\n",
    "elif salman_age>age_at_school:\n",
    "    print(\"salman should join higher secondary school\")\n",
    "elif salman_age==2:\n",
    "    print(\"you should take care of salman, he is still a baby\")\n",
    "else:\n",
    "    print(\"salman can not join the school\")"
   ]
  },
  {
   "cell_type": "code",
   "execution_count": 16,
   "id": "2af49c2d",
   "metadata": {},
   "outputs": [
    {
     "name": "stdout",
     "output_type": "stream",
     "text": [
      "age of salman 6\n",
      "salman should join higher secondary school\n"
     ]
    }
   ],
   "source": [
    "# 2nd Method\n",
    "\n",
    "salman_age= int (input(\"age of salman \"))\n",
    "age_at_school=5\n",
    "\n",
    "if salman_age==age_at_school:\n",
    "    print(\"Congratulation! salman can join the school\")\n",
    "elif salman_age>age_at_school:\n",
    "    print(\"salman should join higher secondary school\")\n",
    "elif salman_age<=2:\n",
    "    print(\"you should take care of salman, he is still a baby\")\n",
    "else:\n",
    "    print(\"salman can not join the school\")"
   ]
  },
  {
   "cell_type": "markdown",
   "id": "dd365bd9",
   "metadata": {},
   "source": [
    "### 10- Functions"
   ]
  },
  {
   "cell_type": "code",
   "execution_count": 17,
   "id": "573100c1",
   "metadata": {},
   "outputs": [
    {
     "name": "stdout",
     "output_type": "stream",
     "text": [
      "we are learning with aamar\n",
      "we are learning with aamar\n",
      "we are learning with aamar\n",
      "we are learning with aammar\n",
      "we are learning with aammar\n",
      "we are learning with aammar\n",
      "we are learning with aamar\n",
      "we are learning with aamar\n",
      "we are learning with aamar\n"
     ]
    }
   ],
   "source": [
    "def print_codianics():\n",
    "    print(\"we are learning with aamar\")\n",
    "    print(\"we are learning with aamar\")\n",
    "    print(\"we are learning with aamar\")\n",
    "\n",
    "print_codianics()\n",
    "\n",
    "# # 2nd method\n",
    "\n",
    "def print_salman_function():\n",
    "    text=\"we are learning with aammar\"\n",
    "    print(text)\n",
    "    print(text)\n",
    "    print(text)\n",
    "\n",
    "print_salman_function()\n",
    "\n",
    "# 3rd method\n",
    "\n",
    "def print_codianics(text):\n",
    "    print(text)\n",
    "    print(text)\n",
    "    print(text)\n",
    "\n",
    "print_codianics(\"we are learning with aamar\")"
   ]
  },
  {
   "cell_type": "markdown",
   "id": "56775707",
   "metadata": {},
   "source": [
    "***defining a function with if, else and elif statement"
   ]
  },
  {
   "cell_type": "code",
   "execution_count": 18,
   "id": "b6a05991",
   "metadata": {},
   "outputs": [
    {
     "name": "stdout",
     "output_type": "stream",
     "text": [
      "salman should join higher secondary school\n"
     ]
    }
   ],
   "source": [
    "def school_calculator(age):\n",
    "    age_at_school=5\n",
    "if age==age_at_school:\n",
    "    print(\"Congratulation! salman can join the school\")\n",
    "elif int(age)>age_at_school:\n",
    "        print(\"salman should join higher secondary school\")\n",
    "elif age<=2:\n",
    "        print(\"you should take care of salman, he is still a baby\")\n",
    "else:\n",
    "        print(\"salman can not join the school\")\n",
    "\n",
    "school_calculator(5)"
   ]
  },
  {
   "cell_type": "markdown",
   "id": "73b96772",
   "metadata": {},
   "source": [
    "***2nd Method"
   ]
  },
  {
   "cell_type": "code",
   "execution_count": 19,
   "id": "37b4fddf",
   "metadata": {},
   "outputs": [
    {
     "name": "stdout",
     "output_type": "stream",
     "text": [
      "what is your age? 3\n",
      "salman should join higher secondary school\n"
     ]
    }
   ],
   "source": [
    "def school_calculator(age=int(input(\"what is your age? \"))): # you can also just put the age\n",
    "      age_at_school=5\n",
    "\n",
    "if age==age_at_school:\n",
    "    print(\"Congratulation! salman can join the school\")\n",
    "elif int(age)>age_at_school:\n",
    "    print(\"salman should join higher secondary school\")\n",
    "elif age<=2:\n",
    "    print(\"you should take care of salman,he is still a baby\")\n",
    "else:\n",
    "    print(\"salman can not join the school\")\n",
    "school_calculator()"
   ]
  },
  {
   "cell_type": "markdown",
   "id": "b5a91f63",
   "metadata": {},
   "source": [
    "***define a function for future"
   ]
  },
  {
   "cell_type": "code",
   "execution_count": 20,
   "id": "9b51bc4b",
   "metadata": {},
   "outputs": [
    {
     "name": "stdout",
     "output_type": "stream",
     "text": [
      "25\n"
     ]
    },
    {
     "data": {
      "text/plain": [
       "25"
      ]
     },
     "execution_count": 20,
     "metadata": {},
     "output_type": "execute_result"
    }
   ],
   "source": [
    "def future_age(age):\n",
    "    new_age=age+15\n",
    "    print(new_age)\n",
    "    return new_age\n",
    "    \n",
    "future_age(10)"
   ]
  },
  {
   "cell_type": "markdown",
   "id": "800615d5",
   "metadata": {},
   "source": [
    "### 11- Loops\n",
    "***while and For Loops"
   ]
  },
  {
   "cell_type": "code",
   "execution_count": 21,
   "id": "24202e3a",
   "metadata": {},
   "outputs": [
    {
     "name": "stdout",
     "output_type": "stream",
     "text": [
      "0\n",
      "1\n",
      "2\n",
      "3\n",
      "4\n",
      "2\n",
      "3\n",
      "4\n",
      "5\n",
      "6\n",
      "7\n",
      "8\n",
      "9\n",
      "5\n",
      "6\n",
      "7\n",
      "8\n",
      "9\n"
     ]
    }
   ],
   "source": [
    "# While Loops\n",
    "x=0\n",
    "while (x<5):\n",
    "    print(x)\n",
    "    x=x+1\n",
    "\n",
    "y=2 \n",
    "while (y<10):\n",
    "    print(y)\n",
    "    y=y+1\n",
    "\n",
    "# for loops\n",
    "\n",
    "for x in range(5,10):\n",
    "    print(x)"
   ]
  },
  {
   "cell_type": "markdown",
   "id": "3b3a440f",
   "metadata": {},
   "source": [
    "***Arrays"
   ]
  },
  {
   "cell_type": "code",
   "execution_count": 22,
   "id": "160c732b",
   "metadata": {},
   "outputs": [
    {
     "name": "stdout",
     "output_type": "stream",
     "text": [
      "sun, mon, tue, wed, thur, fri, sat\n"
     ]
    }
   ],
   "source": [
    "days=[\"sun, mon, tue, wed, thur, fri, sat\"]\n",
    "for d in days:\n",
    "    print(d)"
   ]
  },
  {
   "cell_type": "code",
   "execution_count": 23,
   "id": "d6409da5",
   "metadata": {},
   "outputs": [
    {
     "name": "stdout",
     "output_type": "stream",
     "text": [
      "sun\n",
      "mon\n",
      "tue\n",
      "wed\n",
      "thur\n",
      "fri\n",
      "sat\n"
     ]
    }
   ],
   "source": [
    "days=[\"sun\", \"mon\", \"tue\", \"wed\", \"thur\", \"fri\", \"sat\"]\n",
    "for d in days:\n",
    "    print(d)\n"
   ]
  },
  {
   "cell_type": "code",
   "execution_count": 24,
   "id": "dde387bf",
   "metadata": {},
   "outputs": [
    {
     "name": "stdout",
     "output_type": "stream",
     "text": [
      "sun\n",
      "mon\n",
      "tue\n",
      "wed\n",
      "thur\n"
     ]
    }
   ],
   "source": [
    "days=[\"sun\", \"mon\", \"tue\", \"wed\", \"thur\", \"fri\", \"sat\"]\n",
    "for d in days:\n",
    "    if (d==\"fri\"): break\n",
    "    print(d)\n"
   ]
  },
  {
   "cell_type": "code",
   "execution_count": 25,
   "id": "1dfec685",
   "metadata": {},
   "outputs": [
    {
     "name": "stdout",
     "output_type": "stream",
     "text": [
      "sun\n",
      "mon\n",
      "tue\n",
      "wed\n",
      "thur\n",
      "sat\n"
     ]
    }
   ],
   "source": [
    "days=[\"sun\", \"mon\", \"tue\", \"wed\", \"thur\", \"fri\", \"sat\"]\n",
    "for d in days:\n",
    "    if (d==\"fri\"): continue\n",
    "    print(d)"
   ]
  },
  {
   "cell_type": "markdown",
   "id": "0487f0e7",
   "metadata": {},
   "source": [
    "### 12- Import Libraries\n",
    "1. Defining function by urself its better to import already defined functions:\n",
    "2. people around the world already defined different functions\n",
    "3. its available in open source libraries from where we can use it.\n",
    "4. for example if you want to print or use value of pi"
   ]
  },
  {
   "cell_type": "code",
   "execution_count": 26,
   "id": "28c3a281",
   "metadata": {},
   "outputs": [
    {
     "name": "stdout",
     "output_type": "stream",
     "text": [
      "the value of pi is  3.141592653589793\n",
      "255.10333333333332\n"
     ]
    }
   ],
   "source": [
    "import math\n",
    "print(\"the value of pi is \", math.pi)\n",
    "\n",
    "import statistics\n",
    "\n",
    "x=[240,245,280.310]\n",
    "print(statistics.mean(x))"
   ]
  },
  {
   "cell_type": "markdown",
   "id": "73ecb51f",
   "metadata": {},
   "source": [
    "***Important libraries are numpy, pandas"
   ]
  }
 ],
 "metadata": {
  "kernelspec": {
   "display_name": "Python 3 (ipykernel)",
   "language": "python",
   "name": "python3"
  },
  "language_info": {
   "codemirror_mode": {
    "name": "ipython",
    "version": 3
   },
   "file_extension": ".py",
   "mimetype": "text/x-python",
   "name": "python",
   "nbconvert_exporter": "python",
   "pygments_lexer": "ipython3",
   "version": "3.9.7"
  }
 },
 "nbformat": 4,
 "nbformat_minor": 5
}
